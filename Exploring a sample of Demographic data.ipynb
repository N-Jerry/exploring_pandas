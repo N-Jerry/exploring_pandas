{
 "cells": [
  {
   "cell_type": "markdown",
   "id": "f9cf9f31",
   "metadata": {},
   "source": [
    "## In this challenge we are going to analyze demographic data using Pandas. The dataset of demographic data that was extracted from the 1994 Census database. Here is a sample of what the data looks like:\n",
    "Here is the source link : http://archive.ics.uci.edu/dataset/2/adult\n",
    "\n",
    "|    |   age | workclass        |   fnlwgt | education   |   education-num | marital-status     | occupation        | relationship   | race   | sex    |   capital-gain |   capital-loss |   hours-per-week | native-country   | salary   |\n",
    "|---:|------:|:-----------------|---------:|:------------|----------------:|:-------------------|:------------------|:---------------|:-------|:-------|---------------:|---------------:|-----------------:|:-----------------|:---------|\n",
    "|  0 |    39 | State-gov        |    77516 | Bachelors   |              13 | Never-married      | Adm-clerical      | Not-in-family  | White  | Male   |           2174 |              0 |               40 | United-States    | <=50K    |\n",
    "|  1 |    50 | Self-emp-not-inc |    83311 | Bachelors   |              13 | Married-civ-spouse | Exec-managerial   | Husband        | White  | Male   |              0 |              0 |               13 | United-States    | <=50K    |\n",
    "|  2 |    38 | Private          |   215646 | HS-grad     |               9 | Divorced           | Handlers-cleaners | Not-in-family  | White  | Male   |              0 |              0 |               40 | United-States    | <=50K    |\n",
    "|  3 |    53 | Private          |   234721 | 11th        |               7 | Married-civ-spouse | Handlers-cleaners | Husband        | Black  | Male   |              0 |              0 |               40 | United-States    | <=50K    |\n",
    "|  4 |    28 | Private          |   338409 | Bachelors   |              13 | Married-civ-spouse | Prof-specialty    | Wife           | Black  | Female |              0 |              0 |               40 | Cuba             | <=50K    |"
   ]
  },
  {
   "cell_type": "code",
   "execution_count": 35,
   "id": "ee146ee6",
   "metadata": {},
   "outputs": [],
   "source": [
    "import pandas as pd\n",
    "\n",
    "# Read data from file\n",
    "# Here, we decided nt to infer any header\n",
    "# Our seperator is ', ' because in our dataset, thers's a space after each comma\n",
    "#python engine because that of doesn;t support regular expression separators\n",
    "df = pd.read_csv('adult.data',header=None, sep=', ',engine='python',\n",
    "         names=[\"age\",\"workclass\" ,\"fnlwgt\",\"education\",\"education-num\",\"marital-status\",\"occupation\",\"relationship\",\n",
    "                \"race\",\"sex\",\"capital-gain\",\"capital-loss\",\"hours-per-week\",\"native-country\",\"salary\"])"
   ]
  },
  {
   "cell_type": "code",
   "execution_count": 36,
   "id": "d72ad6ed",
   "metadata": {},
   "outputs": [
    {
     "data": {
      "text/plain": [
       "race\n",
       "White                 27816\n",
       "Black                  3124\n",
       "Asian-Pac-Islander     1039\n",
       "Amer-Indian-Eskimo      311\n",
       "Other                   271\n",
       "Name: count, dtype: int64"
      ]
     },
     "execution_count": 36,
     "metadata": {},
     "output_type": "execute_result"
    }
   ],
   "source": [
    " # How many of each race are represented in this dataset? This should be a Pandas series with race names as the index labels.\n",
    "race_count = df['race'].value_counts()\n",
    "race_count"
   ]
  },
  {
   "cell_type": "code",
   "execution_count": 37,
   "id": "4ff6399e",
   "metadata": {},
   "outputs": [
    {
     "data": {
      "text/plain": [
       "39.4"
      ]
     },
     "execution_count": 37,
     "metadata": {},
     "output_type": "execute_result"
    }
   ],
   "source": [
    "# What is the average age of men?\n",
    "average_age_men = df[df['sex'] == 'Male']['age'].mean().round(1)\n",
    "average_age_men"
   ]
  },
  {
   "cell_type": "code",
   "execution_count": 38,
   "id": "56e2d6e5",
   "metadata": {},
   "outputs": [
    {
     "data": {
      "text/plain": [
       "16.4"
      ]
     },
     "execution_count": 38,
     "metadata": {},
     "output_type": "execute_result"
    }
   ],
   "source": [
    "# What is the percentage of people who have a Bachelor's degree?\n",
    "percentage_bachelors = ((df[df['education'] == 'Bachelors']['education'].count()/df['education'].count()) *100).round(1)\n",
    "percentage_bachelors"
   ]
  },
  {
   "cell_type": "markdown",
   "id": "22d317e8",
   "metadata": {},
   "source": [
    "### What percentage of people with advanced education (`Bachelors`, `Masters`, or `Doctorate`) make more than 50K?\n",
    "### What percentage of people without advanced education make more than 50K?\n"
   ]
  },
  {
   "cell_type": "code",
   "execution_count": 39,
   "id": "14926ef8",
   "metadata": {},
   "outputs": [
    {
     "data": {
      "text/plain": [
       "23.0"
      ]
     },
     "execution_count": 39,
     "metadata": {},
     "output_type": "execute_result"
    }
   ],
   "source": [
    "higher_education = ((df[df['education'].isin(['Bachelors','Masters','Doctorate'])]['education'].count()/df['education'].count()) * 100).round(1)\n",
    "higher_education"
   ]
  },
  {
   "cell_type": "code",
   "execution_count": 40,
   "id": "51f555c1",
   "metadata": {},
   "outputs": [
    {
     "data": {
      "text/plain": [
       "77.0"
      ]
     },
     "execution_count": 40,
     "metadata": {},
     "output_type": "execute_result"
    }
   ],
   "source": [
    "lower_education = ((df[ ~ df['education'].isin(['Bachelors','Masters','Doctorate'])]['education'].count()/df['education'].count()) * 100).round(1)\n",
    "lower_education"
   ]
  },
  {
   "cell_type": "code",
   "execution_count": 41,
   "id": "6bb40cf7",
   "metadata": {},
   "outputs": [
    {
     "data": {
      "text/plain": [
       "10.7"
      ]
     },
     "execution_count": 41,
     "metadata": {},
     "output_type": "execute_result"
    }
   ],
   "source": [
    "higher_education_rich = ((df[(df['education'].isin(['Bachelors','Masters','Doctorate'])) & (df['salary'] == '>50K')] ['education'].count() / df['education'].count()) * 100).round(1)\n",
    "higher_education_rich"
   ]
  },
  {
   "cell_type": "code",
   "execution_count": 42,
   "id": "1a82435e",
   "metadata": {},
   "outputs": [
    {
     "data": {
      "text/plain": [
       "'13.37%'"
      ]
     },
     "execution_count": 42,
     "metadata": {},
     "output_type": "execute_result"
    }
   ],
   "source": [
    "lower_education_rich = \"{:.2%}\".format(df[ ~ (df['education'].isin(['Bachelors','Masters','Doctorate'])) & (df['salary'] == '>50K')]\n",
    "    ['education'].count()/df['education'].count())\n",
    "lower_education_rich"
   ]
  },
  {
   "cell_type": "code",
   "execution_count": 43,
   "id": "b71def03",
   "metadata": {},
   "outputs": [
    {
     "data": {
      "text/plain": [
       "1"
      ]
     },
     "execution_count": 43,
     "metadata": {},
     "output_type": "execute_result"
    }
   ],
   "source": [
    "# What is the minimum number of hours a person works per week (hours-per-week feature)?\n",
    "min_work_hours = df['hours-per-week'].min()\n",
    "min_work_hours"
   ]
  },
  {
   "cell_type": "code",
   "execution_count": 44,
   "id": "9277748c",
   "metadata": {},
   "outputs": [
    {
     "data": {
      "text/plain": [
       "20"
      ]
     },
     "execution_count": 44,
     "metadata": {},
     "output_type": "execute_result"
    }
   ],
   "source": [
    "\n",
    "num_min_workers = df[df['hours-per-week'] == min_work_hours]['hours-per-week'].count()\n",
    "num_min_workers"
   ]
  },
  {
   "cell_type": "code",
   "execution_count": 45,
   "id": "f80b4528",
   "metadata": {},
   "outputs": [
    {
     "data": {
      "text/plain": [
       "2"
      ]
     },
     "execution_count": 45,
     "metadata": {},
     "output_type": "execute_result"
    }
   ],
   "source": [
    "# Number of people who work the min number of hours per week and have a salary of >50K\n",
    "rich_min_hrs_per_week = df[(df['hours-per-week'] == 1) & (df['salary'] == '>50K')]['hours-per-week'].count()\n",
    "rich_min_hrs_per_week"
   ]
  },
  {
   "cell_type": "code",
   "execution_count": 46,
   "id": "a582f6ec",
   "metadata": {},
   "outputs": [
    {
     "data": {
      "text/plain": [
       "0.006142317496391388"
      ]
     },
     "execution_count": 46,
     "metadata": {},
     "output_type": "execute_result"
    }
   ],
   "source": [
    "# What percentage of the people who work the minimum number of hours per week have a salary of >50K?\n",
    "rich_percentage = df[(df['hours-per-week'] == 1) & (df['salary'] == '>50K')]['hours-per-week'].count()/df.shape[0] *100\n",
    "rich_percentage\n",
    "# Our answer is as expected because the value of rich_min_hrs_per_week is very small (2)"
   ]
  },
  {
   "cell_type": "code",
   "execution_count": 47,
   "id": "50333aa4",
   "metadata": {},
   "outputs": [
    {
     "data": {
      "text/plain": [
       "'United-States'"
      ]
     },
     "execution_count": 47,
     "metadata": {},
     "output_type": "execute_result"
    }
   ],
   "source": [
    "# What country has the highest percentage of people that earn >50K?\n",
    "# Our final return value of .mode() is a one-valued series, so we need to index the only element in it\n",
    "highest_earning_country = df[df['salary'] == '>50K']['native-country'].mode()[0]\n",
    "highest_earning_country"
   ]
  },
  {
   "cell_type": "code",
   "execution_count": 48,
   "id": "676df585",
   "metadata": {},
   "outputs": [
    {
     "data": {
      "text/plain": [
       "89.5857006848684"
      ]
     },
     "execution_count": 48,
     "metadata": {},
     "output_type": "execute_result"
    }
   ],
   "source": [
    "highest_earning_country_percentage = df[df['native-country'] == highest_earning_country]['native-country'].count()/df['native-country'].count() * 100\n",
    "highest_earning_country_percentage"
   ]
  },
  {
   "cell_type": "code",
   "execution_count": 49,
   "id": "ede80149",
   "metadata": {},
   "outputs": [
    {
     "data": {
      "text/plain": [
       "'Prof-specialty'"
      ]
     },
     "execution_count": 49,
     "metadata": {},
     "output_type": "execute_result"
    }
   ],
   "source": [
    "# Identify the most popular occupation for those who earn >50K in India.\n",
    "top_IN_occupation = df[(df['native-country'] == 'India') & (df['salary'] == '>50K')]['occupation'].mode()[0]\n",
    "top_IN_occupation"
   ]
  },
  {
   "cell_type": "markdown",
   "id": "936cf5e1",
   "metadata": {},
   "source": [
    "#### We can still write a function that does all of the above and packs the variables in a dictionay which is later returned.\n",
    "##### We decided to format some of the numbers to 4 decimal places"
   ]
  },
  {
   "cell_type": "code",
   "execution_count": 50,
   "id": "980529ea",
   "metadata": {},
   "outputs": [
    {
     "name": "stdout",
     "output_type": "stream",
     "text": [
      "{'race': race\n",
      "White                 27816\n",
      "Black                  3124\n",
      "Asian-Pac-Islander     1039\n",
      "Amer-Indian-Eskimo      311\n",
      "Other                   271\n",
      "Name: count, dtype: int64, 'avg_age_men': 39.4, '%_bachelors': 16.4461, 'higher_educ': 23.0061, 'lower_educ': 76.9939, 'higher_rich': 10.7061, 'lower_rich': 13.3749, 'min_wrk_hrs': 1, 'num_wrkers_min_wrk_hrs': 20, 'rich_min_wrk_%age': 0.0061, 'highest_earn_ctr': 'United-States', 'highest_earn_ctr_%age': 89.5857, 'top_in_india': 'Prof-specialty'}\n"
     ]
    }
   ],
   "source": [
    "import pandas as pd\n",
    "\n",
    "def calculate_demographic_data(print_data=True):\n",
    "    # Read data from file\n",
    "    df = pd.read_csv('adult.data',header=None, sep=', ',engine='python',\n",
    "         names=[\"age\",\"workclass\" ,\"fnlwgt\",\"education\",\"education-num\",\"marital-status\",\"occupation\",\n",
    "                \" relationship\",\"race\",\"sex\",\"capital-gain\",\"capital-loss\",\"hours-per-week\",\"native-country\",\"salary\"])\n",
    "\n",
    "     # How many of each race are represented in this dataset? This should be a Pandas series with race names as the index labels.\n",
    "    race_count = df['race'].value_counts()\n",
    "\n",
    "    # What is the average age of men?\n",
    "    average_age_men = df[df['sex'] == 'Male']['age'].mean().round(1)\n",
    "\n",
    "    # What is the percentage of people who have a Bachelor's degree?\n",
    "    percentage_bachelors = ((df[df['education'] == 'Bachelors']['education'].count()/df['education'].count()) *100).round(4)\n",
    "\n",
    "    # What percentage of people with advanced education (`Bachelors`, `Masters`, or `Doctorate`) make more than 50K?\n",
    "    # What percentage of people without advanced education make more than 50K?\n",
    "\n",
    "    # with and without `Bachelors`, `Masters`, or `Doctorate`\n",
    "    higher_education = ((df[df['education'].isin(['Bachelors','Masters','Doctorate'])]['education'].count()/df['education'].count()) * 100).round(4)\n",
    "    lower_education = ((df[ ~ df['education'].isin(['Bachelors','Masters','Doctorate'])]\n",
    "    ['education'].count()/df['education'].count()) * 100).round(4)\n",
    "\n",
    "    # percentage with salary >50K\n",
    "    \n",
    "    higher_education_rich = ((df[(df['education'].isin(['Bachelors','Masters','Doctorate'])) & (df['salary'] == '>50K')]['education'].count() / df['education'].count()) * 100).round(4)\n",
    "\n",
    "    lower_education_rich = (df[ ~ (df['education'].isin(['Bachelors','Masters','Doctorate'])) & (df['salary'] == '>50K')]\n",
    "    ['education'].count()/df['education'].count() * 100).round(4)\n",
    "\n",
    "    # What is the minimum number of hours a person works per week (hours-per-week feature)?\n",
    "    min_work_hours = df['hours-per-week'].min()\n",
    "\n",
    "    # What percentage of the people who work the minimum number of hours per week have a salary of >50K?\n",
    "    num_min_workers = df[df['hours-per-week'] == min_work_hours]['hours-per-week'].count()\n",
    "\n",
    "    rich_percentage = (df[(df['hours-per-week'] == 1) & (df['salary'] == '>50K')]['hours-per-week'].count()/df.shape[0] * 100).round(4)\n",
    "    # What country has the highest percentage of people that earn >50K?\n",
    "    highest_earning_country = df[df['salary'] == '>50K']['native-country'].mode()[0]\n",
    "    highest_earning_country_percentage = (df[df['native-country'] == highest_earning_country]['native-country'].count()/df['native-country'].count() * 100).round(4)\n",
    "\n",
    "    # Identify the most popular occupation for those who earn >50K in India.\n",
    "    top_IN_occupation = df[(df['native-country'] == 'India') & (df['salary'] == '>50K')]['occupation'].mode()[0]\n",
    "\n",
    "    sol = {\n",
    "        'race' : race_count,\n",
    "        'avg_age_men' : average_age_men,\n",
    "        '%_bachelors' : percentage_bachelors,\n",
    "        'higher_educ' : higher_education,\n",
    "        'lower_educ' : lower_education,\n",
    "        'higher_rich' : higher_education_rich,\n",
    "        'lower_rich' : lower_education_rich,\n",
    "        'min_wrk_hrs' : min_work_hours,\n",
    "        'num_wrkers_min_wrk_hrs' : num_min_workers,\n",
    "        'rich_min_wrk_%age' : rich_percentage,\n",
    "        'highest_earn_ctr' : highest_earning_country,\n",
    "        'highest_earn_ctr_%age' : highest_earning_country_percentage,\n",
    "        'top_in_india' : top_IN_occupation\n",
    "\n",
    "    }\n",
    "    \n",
    "    return  sol\n",
    "\n",
    "print(calculate_demographic_data())"
   ]
  },
  {
   "cell_type": "code",
   "execution_count": null,
   "id": "a93a3c5a",
   "metadata": {},
   "outputs": [],
   "source": []
  }
 ],
 "metadata": {
  "kernelspec": {
   "display_name": "Python 3 (ipykernel)",
   "language": "python",
   "name": "python3"
  },
  "language_info": {
   "codemirror_mode": {
    "name": "ipython",
    "version": 3
   },
   "file_extension": ".py",
   "mimetype": "text/x-python",
   "name": "python",
   "nbconvert_exporter": "python",
   "pygments_lexer": "ipython3",
   "version": "3.10.6"
  }
 },
 "nbformat": 4,
 "nbformat_minor": 5
}
